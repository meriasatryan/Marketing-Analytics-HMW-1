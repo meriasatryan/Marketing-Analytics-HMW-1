{
 "cells": [
  {
   "cell_type": "markdown",
   "metadata": {},
   "source": [
    "# Homework on Bass Model\n",
    "## Meri Asatryan\n",
    "## October 08, 2024"
   ]
  },
  {
   "cell_type": "markdown",
   "metadata": {},
   "source": [
    "For my Bass Model homework, I have chosen the **Samba Robotic Toothbrush** from TIME's Best Inventions of 2023. This innovative product offers a fully automated brushing experience, designed to simplify oral care with advanced technology. You can find more information about the Samba Robotic Toothbrush at this link: [Samba Robotic Toothbrush](https://time.com/collection/best-inventions-2023/6323132/samba-robotic-toothbrush/)."
   ]
  },
  {
   "cell_type": "markdown",
   "metadata": {},
   "source": [
    "The **Oral-B** toothbrush brand is a great comparison for the **Samba Robotic Toothbrush**. Oral-B has been around for a while and has built up a strong following, especially with models like the iO series that introduce new technology to make brushing smarter and more effective. Your dataset, showing the number of Oral-B users in Great Britain from 2017 to 2020, highlights how they've steadily grown by keeping up with what people want.\n",
    "\n",
    "In comparison, the **Samba Robotic Toothbrush** is a newer and more advanced product, offering a fully automated brushing experience. While Oral-B uses smart features to guide users, the Samba Robotic Toothbrush takes convenience to the next level by doing all the work for you. Oral-B's success shows how important it is to innovate, but the Samba Robotic Toothbrush could attract people who want an even more effortless experience. The data on Oral-B’s user growth can help predict how quickly the Samba Robotic Toothbrush might catch on in the market."
   ]
  },
  {
   "cell_type": "markdown",
   "metadata": {},
   "source": [
    "<div style=\"display: flex; justify-content: space-around;\">\n",
    "    <div style=\"text-align: center;\">\n",
    "        <a href=\"https://time.com/collection/best-inventions-2023/6323132/samba-robotic-toothbrush/\" target=\"_blank\">\n",
    "            <img src=\"../img/samba_robotic_toothbrush.jpg\" alt=\"Samba Robotic Toothbrush\" width=\"350\">\n",
    "        </a>\n",
    "        <p><strong>Figure 1:</strong> <a href=\"https://time.com/collection/best-inventions-2023/6323132/samba-robotic-toothbrush/\" target=\"_blank\">Samba Robotic Toothbrush</a></p>\n",
    "    </div>\n",
    "    <div style=\"text-align: center;\">\n",
    "        <a href=\"https://www.oralb.co.uk/en-gb\" target=\"_blank\">\n",
    "            <img src=\"../img/oral_b_toothbrush.jpg\" alt=\"Oral B Toothbrush\" width=\"520\">\n",
    "        </a>\n",
    "        <p><strong>Figure 2:</strong> <a href=\"https://www.oralb.co.uk/en-gb\" target=\"_blank\">Oral B Toothbrush</a></p>\n",
    "    </div>\n",
    "</div>\n"
   ]
  },
  {
   "cell_type": "markdown",
   "metadata": {},
   "source": [
    "In this small project, we analyze the adoption patterns of two advanced toothbrush technologies: the **Samba Robotic Toothbrush** and **Oral-B Toothbrush**. The goal is to use the Bass Diffusion Model to predict how these innovations might be adopted by users over time, based on historical data and market trends."
   ]
  },
  {
   "cell_type": "markdown",
   "metadata": {},
   "source": [
    "**Dataset Description**\n",
    "The dataset used for this project includes historical data for the Oral-B Toothbrush in Great Britain, covering user adoption from 2017 to 2020. This data will be analyzed using the Bass Diffusion Model to estimate the market potential, innovation coefficient, and imitation coefficient.\n",
    "\n",
    "For the Samba Robotic Toothbrush, since it is a relatively new product, we will make predictions based on similar historical data and trends in the smart oral care market."
   ]
  },
  {
   "cell_type": "code",
   "execution_count": null,
   "metadata": {},
   "outputs": [],
   "source": [
    "import numpy as np\n",
    "import pandas as pd\n",
    "import matplotlib.pyplot as plt\n",
    "import seaborn as sns\n",
    "from scipy.optimize import curve_fit\n",
    "\n",
    "# Set seaborn style for better aesthetics\n",
    "sns.set(style=\"whitegrid\")\n",
    "\n",
    "# 1. Loading the Dataset\n",
    "def load_data(filepath):\n",
    "    \"\"\"\n",
    "    Load the Oral-B adoption dataset.\n",
    "\n",
    "    Parameters:\n",
    "    - filepath: str, path to the CSV file.\n",
    "\n",
    "    Returns:\n",
    "    - df: pandas DataFrame with 'Year' and 'Adopters' columns.\n",
    "    \"\"\"\n",
    "    df = pd.read_csv(filepath)\n",
    "    # Ensure the data is sorted by Year\n",
    "    df = df.sort_values('Year')\n",
    "    return df"
   ]
  },
  {
   "cell_type": "code",
   "execution_count": null,
   "metadata": {},
   "outputs": [],
   "source": [
    "# 2. Plotting Historical Adoption Data\n",
    "def plot_historical_data(df):\n",
    "    \"\"\"\n",
    "    Plot the historical number of adopters over time.\n",
    "\n",
    "    Parameters:\n",
    "    - df: pandas DataFrame with 'Year' and 'Adopters' columns.\n",
    "    \"\"\"\n",
    "    plt.figure(figsize=(10,6))\n",
    "    plt.plot(df['Year'], df['Adopters'], marker='o', linestyle='-', color='b')\n",
    "    plt.title('Historical Adoption of Oral-B Products')\n",
    "    plt.xlabel('Year')\n",
    "    plt.ylabel('Number of Adopters')\n",
    "    plt.grid(True)\n",
    "    plt.show()"
   ]
  },
  {
   "cell_type": "markdown",
   "metadata": {},
   "source": [
    "**Methodology**\n",
    "We will use the Bass Diffusion Model to estimate the number of adopters for both products over time. This model helps to understand the adoption lifecycle of new products by considering two main factors:\n",
    "\n",
    "- Innovation (p): The rate at which early adopters begin using the product.\n",
    "- Imitation (q): The rate at which later adopters are influenced by the early adopters.\n"
   ]
  },
  {
   "cell_type": "code",
   "execution_count": null,
   "metadata": {},
   "outputs": [],
   "source": [
    "# 3. Defining the Bass Diffusion Model\n",
    "def bass_model(t, p, q, m):\n",
    "    \"\"\"\n",
    "    Bass diffusion model function.\n",
    "\n",
    "    Parameters:\n",
    "    - t: Time (typically years since introduction).\n",
    "    - p: Coefficient of innovation.\n",
    "    - q: Coefficient of imitation.\n",
    "    - m: Market potential.\n",
    "\n",
    "    Returns:\n",
    "    - Adoption at time t.\n",
    "    \"\"\"\n",
    "    return m * ((p + q)**2 / p) * np.exp(-(p + q) * t) / ((p + q) - p * np.exp(-(p + q) * t))**2"
   ]
  },
  {
   "cell_type": "markdown",
   "metadata": {},
   "source": [
    "By fitting the Bass Model to the historical data, we can forecast the future adoption trends for the Samba Robotic Toothbrush and compare it with the established Oral-B Toothbrush."
   ]
  },
  {
   "cell_type": "code",
   "execution_count": null,
   "metadata": {},
   "outputs": [],
   "source": [
    "# 4. Fitting the Bass Model to the Data\n",
    "def fit_bass_model(df):\n",
    "    \"\"\"\n",
    "    Fit the Bass model to the historical adoption data.\n",
    "\n",
    "    Parameters:\n",
    "    - df: pandas DataFrame with 'Year' and 'Adopters' columns.\n",
    "\n",
    "    Returns:\n",
    "    - params: Tuple containing estimated (p, q, m).\n",
    "    \"\"\"\n",
    "    # Prepare the data\n",
    "    t = np.array(df['Year']) - df['Year'].min() + 1  # Time since introduction\n",
    "    adopters = np.array(df['Adopters'])\n",
    "    cumulative_adopters = np.cumsum(adopters)\n",
    "\n",
    "    # Initial parameter guesses\n",
    "    p_initial = 0.03\n",
    "    q_initial = 0.38\n",
    "    m_initial = cumulative_adopters.max() * 1.5  # Assume market potential is 1.5 times current adopters\n",
    "\n",
    "    initial_guess = [p_initial, q_initial, m_initial]\n",
    "\n",
    "    # Define the cumulative Bass model\n",
    "    def cumulative_bass(t, p, q, m):\n",
    "        return m * (1 - np.exp(-(p + q) * t)) / (1 + (q / p) * np.exp(-(p + q) * t))\n",
    "\n",
    "    # Fit the model\n",
    "    params, covariance = curve_fit(cumulative_bass, t, cumulative_adopters, p0=initial_guess, maxfev=10000)\n",
    "\n",
    "    return params\n"
   ]
  },
  {
   "cell_type": "code",
   "execution_count": null,
   "metadata": {},
   "outputs": [],
   "source": [
    "# 5. Predicting Future Adoption\n",
    "def predict_adoption(params, years_ahead, start_year):\n",
    "    \"\"\"\n",
    "    Predict future adoption using the fitted Bass model.\n",
    "\n",
    "    Parameters:\n",
    "    - params: Tuple containing (p, q, m).\n",
    "    - years_ahead: int, number of years to predict.\n",
    "    - start_year: int, the last year in the historical data.\n",
    "\n",
    "    Returns:\n",
    "    - future_df: pandas DataFrame with 'Year', 'Cumulative Adopters', and 'New Adopters'.\n",
    "    \"\"\"\n",
    "    p, q, m = params\n",
    "    future_years = np.arange(start_year + 1, start_year + years_ahead + 1)\n",
    "    t_future = np.arange(1, len(future_years) + 1)\n",
    "    \n",
    "    # Cumulative adoption for future years\n",
    "    cumulative_adoption = m * (1 - np.exp(-(p + q) * t_future)) / (1 + (q / p) * np.exp(-(p + q) * t_future))\n",
    "    \n",
    "    # Calculate new adopters by differencing\n",
    "    new_adopters = np.diff(cumulative_adoption, prepend=0)\n",
    "    \n",
    "    future_df = pd.DataFrame({\n",
    "        'Year': future_years,\n",
    "        'Cumulative Adopters': cumulative_adoption,\n",
    "        'New Adopters': new_adopters\n",
    "    })\n",
    "    \n",
    "    return future_df"
   ]
  },
  {
   "cell_type": "code",
   "execution_count": null,
   "metadata": {},
   "outputs": [],
   "source": [
    "# 6. Plotting the Fitted Bass Model\n",
    "def plot_fitted_model(df, params, future_df=None):\n",
    "    \"\"\"\n",
    "    Plot historical data and fitted Bass model.\n",
    "\n",
    "    Parameters:\n",
    "    - df: pandas DataFrame with historical 'Year' and 'Adopters'.\n",
    "    - params: Tuple containing (p, q, m).\n",
    "    - future_df: pandas DataFrame with future 'Year' and 'Cumulative Adopters' (optional).\n",
    "    \"\"\"\n",
    "    p, q, m = params\n",
    "    t = np.array(df['Year']) - df['Year'].min() + 1\n",
    "    cumulative_adopters = np.cumsum(df['Adopters'])\n",
    "\n",
    "    # Fitted cumulative adoption\n",
    "    fitted_cumulative = m * (1 - np.exp(-(p + q) * t)) / (1 + (q / p) * np.exp(-(p + q) * t))\n",
    "\n",
    "    plt.figure(figsize=(10,6))\n",
    "    plt.plot(df['Year'], cumulative_adopters, 'o', label='Historical Cumulative Adopters')\n",
    "    plt.plot(df['Year'], fitted_cumulative, '-', label='Fitted Bass Model')\n",
    "\n",
    "    if future_df is not None:\n",
    "        plt.plot(future_df['Year'], future_df['Cumulative Adopters'], '--', label='Predicted Cumulative Adopters')\n",
    "\n",
    "    plt.title('Bass Diffusion Model Fit')\n",
    "    plt.xlabel('Year')\n",
    "    plt.ylabel('Cumulative Number of Adopters')\n",
    "    plt.legend()\n",
    "    plt.grid(True)\n",
    "    plt.show()\n"
   ]
  },
  {
   "cell_type": "code",
   "execution_count": null,
   "metadata": {},
   "outputs": [],
   "source": [
    "# 7. Main Execution\n",
    "def main():\n",
    "    # Filepath to the dataset\n",
    "    data_filepath = '../data/oral_b_data.csv'\n",
    "\n",
    "    # Load the data\n",
    "    df = load_data(data_filepath)\n",
    "    print(\"Historical Data:\")\n",
    "    print(df)\n",
    "\n",
    "    # Plot historical data\n",
    "    plot_historical_data(df)\n",
    "\n",
    "    # Fit the Bass model\n",
    "    params = fit_bass_model(df)\n",
    "    p, q, m = params\n",
    "    print(f\"\\nEstimated Bass Model Parameters:\\n p (Innovation): {p:.4f}\\n q (Imitation): {q:.4f}\\n m (Market Potential): {m:.0f}\")\n",
    "\n",
    "    # Predict future adoption (e.g., next 10 years)\n",
    "    years_ahead = 10\n",
    "    start_year = df['Year'].max()\n",
    "    future_df = predict_adoption(params, years_ahead, start_year)\n",
    "    print(\"\\nFuture Adoption Predictions:\")\n",
    "    print(future_df)\n",
    "\n",
    "    # Plot fitted model with predictions\n",
    "    plot_fitted_model(df, params, future_df)\n",
    "\n",
    "    # Save predictions to CSV\n",
    "    future_df.to_csv('../data/future_adoption_predictions.csv', index=False)\n",
    "    print(\"\\nFuture adoption predictions saved to 'data/future_adoption_predictions.csv'.\")\n",
    "\n",
    "if __name__ == \"__main__\":\n",
    "    main()\n"
   ]
  }
 ],
 "metadata": {
  "kernelspec": {
   "display_name": "Python 3",
   "language": "python",
   "name": "python3"
  },
  "language_info": {
   "codemirror_mode": {
    "name": "ipython",
    "version": 3
   },
   "file_extension": ".py",
   "mimetype": "text/x-python",
   "name": "python",
   "nbconvert_exporter": "python",
   "pygments_lexer": "ipython3",
   "version": "3.10.7"
  }
 },
 "nbformat": 4,
 "nbformat_minor": 2
}
